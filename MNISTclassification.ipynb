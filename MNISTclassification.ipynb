{
 "cells": [
  {
   "cell_type": "markdown",
   "source": [
    "# Import Libaraies"
   ],
   "metadata": {
    "collapsed": false
   }
  },
  {
   "cell_type": "code",
   "execution_count": 26,
   "metadata": {
    "collapsed": true
   },
   "outputs": [],
   "source": [
    "from sklearn.metrics import accuracy_score\n",
    "\n",
    "import tensorflow\n",
    "from tensorflow import keras\n",
    "from tensorflow.keras import Sequential\n",
    "from tensorflow.keras.layers import Dense, Flatten\n",
    "\n",
    "import matplotlib.pyplot as plt"
   ]
  },
  {
   "cell_type": "markdown",
   "source": [
    "# Importing Data"
   ],
   "metadata": {
    "collapsed": false
   }
  },
  {
   "cell_type": "code",
   "execution_count": 2,
   "outputs": [
    {
     "name": "stdout",
     "output_type": "stream",
     "text": [
      "Downloading data from https://storage.googleapis.com/tensorflow/tf-keras-datasets/mnist.npz\n",
      "11490434/11490434 [==============================] - 2s 0us/step\n"
     ]
    }
   ],
   "source": [
    "(X_train, y_train),(X_test, y_test) = keras.datasets.mnist.load_data()"
   ],
   "metadata": {
    "collapsed": false
   }
  },
  {
   "cell_type": "code",
   "execution_count": 3,
   "outputs": [
    {
     "data": {
      "text/plain": "(60000, 28, 28)"
     },
     "execution_count": 3,
     "metadata": {},
     "output_type": "execute_result"
    }
   ],
   "source": [
    "X_train.shape"
   ],
   "metadata": {
    "collapsed": false
   }
  },
  {
   "cell_type": "code",
   "execution_count": 5,
   "outputs": [],
   "source": [
    "X_train = X_train/255\n",
    "X_test = X_test/255"
   ],
   "metadata": {
    "collapsed": false
   }
  },
  {
   "cell_type": "markdown",
   "source": [
    "# Create Model"
   ],
   "metadata": {
    "collapsed": false
   }
  },
  {
   "cell_type": "code",
   "execution_count": 29,
   "outputs": [],
   "source": [
    "model = Sequential()\n",
    "\n",
    "model.add(Flatten(input_shape = (28,28)))\n",
    "model.add(Dense(128, activation=\"relu\"))\n",
    "model.add(Dense(32, activation=\"relu\"))\n",
    "model.add(Dense(10, activation=\"softmax\"))"
   ],
   "metadata": {
    "collapsed": false
   }
  },
  {
   "cell_type": "code",
   "execution_count": 30,
   "outputs": [
    {
     "name": "stdout",
     "output_type": "stream",
     "text": [
      "Model: \"sequential_2\"\n",
      "_________________________________________________________________\n",
      " Layer (type)                Output Shape              Param #   \n",
      "=================================================================\n",
      " flatten_2 (Flatten)         (None, 784)               0         \n",
      "                                                                 \n",
      " dense_5 (Dense)             (None, 128)               100480    \n",
      "                                                                 \n",
      " dense_6 (Dense)             (None, 32)                4128      \n",
      "                                                                 \n",
      " dense_7 (Dense)             (None, 10)                330       \n",
      "                                                                 \n",
      "=================================================================\n",
      "Total params: 104,938\n",
      "Trainable params: 104,938\n",
      "Non-trainable params: 0\n",
      "_________________________________________________________________\n"
     ]
    }
   ],
   "source": [
    "model.summary()"
   ],
   "metadata": {
    "collapsed": false
   }
  },
  {
   "cell_type": "code",
   "execution_count": 31,
   "outputs": [],
   "source": [
    "model.compile(loss=\"sparse_categorical_crossentropy\", optimizer=\"Adam\",metrics=[\"accuracy\"])"
   ],
   "metadata": {
    "collapsed": false
   }
  },
  {
   "cell_type": "code",
   "execution_count": 32,
   "outputs": [
    {
     "name": "stdout",
     "output_type": "stream",
     "text": [
      "Epoch 1/25\n",
      "1500/1500 [==============================] - 3s 2ms/step - loss: 0.9873 - accuracy: 0.7071 - val_loss: 0.4809 - val_accuracy: 0.8613\n",
      "Epoch 2/25\n",
      "1500/1500 [==============================] - 2s 1ms/step - loss: 0.4344 - accuracy: 0.8731 - val_loss: 0.3595 - val_accuracy: 0.8928\n",
      "Epoch 3/25\n",
      "1500/1500 [==============================] - 2s 1ms/step - loss: 0.3644 - accuracy: 0.8943 - val_loss: 0.3213 - val_accuracy: 0.9074\n",
      "Epoch 4/25\n",
      "1500/1500 [==============================] - 2s 2ms/step - loss: 0.3313 - accuracy: 0.9035 - val_loss: 0.2968 - val_accuracy: 0.9152\n",
      "Epoch 5/25\n",
      "1500/1500 [==============================] - 2s 2ms/step - loss: 0.3064 - accuracy: 0.9111 - val_loss: 0.2747 - val_accuracy: 0.9222\n",
      "Epoch 6/25\n",
      "1500/1500 [==============================] - 2s 2ms/step - loss: 0.2831 - accuracy: 0.9182 - val_loss: 0.2580 - val_accuracy: 0.9237\n",
      "Epoch 7/25\n",
      "1500/1500 [==============================] - 2s 2ms/step - loss: 0.2602 - accuracy: 0.9249 - val_loss: 0.2462 - val_accuracy: 0.9277\n",
      "Epoch 8/25\n",
      "1500/1500 [==============================] - 2s 2ms/step - loss: 0.2372 - accuracy: 0.9320 - val_loss: 0.2211 - val_accuracy: 0.9365\n",
      "Epoch 9/25\n",
      "1500/1500 [==============================] - 3s 2ms/step - loss: 0.2180 - accuracy: 0.9358 - val_loss: 0.2046 - val_accuracy: 0.9417\n",
      "Epoch 10/25\n",
      "1500/1500 [==============================] - 2s 2ms/step - loss: 0.1993 - accuracy: 0.9422 - val_loss: 0.1936 - val_accuracy: 0.9437\n",
      "Epoch 11/25\n",
      "1500/1500 [==============================] - 3s 2ms/step - loss: 0.1827 - accuracy: 0.9462 - val_loss: 0.1777 - val_accuracy: 0.9485\n",
      "Epoch 12/25\n",
      "1500/1500 [==============================] - 3s 2ms/step - loss: 0.1698 - accuracy: 0.9501 - val_loss: 0.1741 - val_accuracy: 0.9494\n",
      "Epoch 13/25\n",
      "1500/1500 [==============================] - 2s 2ms/step - loss: 0.1576 - accuracy: 0.9533 - val_loss: 0.1616 - val_accuracy: 0.9532\n",
      "Epoch 14/25\n",
      "1500/1500 [==============================] - 2s 2ms/step - loss: 0.1464 - accuracy: 0.9570 - val_loss: 0.1611 - val_accuracy: 0.9530\n",
      "Epoch 15/25\n",
      "1500/1500 [==============================] - 3s 2ms/step - loss: 0.1372 - accuracy: 0.9594 - val_loss: 0.1551 - val_accuracy: 0.9548\n",
      "Epoch 16/25\n",
      "1500/1500 [==============================] - 2s 2ms/step - loss: 0.1287 - accuracy: 0.9619 - val_loss: 0.1403 - val_accuracy: 0.9605\n",
      "Epoch 17/25\n",
      "1500/1500 [==============================] - 2s 2ms/step - loss: 0.1210 - accuracy: 0.9643 - val_loss: 0.1373 - val_accuracy: 0.9609\n",
      "Epoch 18/25\n",
      "1500/1500 [==============================] - 2s 2ms/step - loss: 0.1135 - accuracy: 0.9666 - val_loss: 0.1315 - val_accuracy: 0.9622\n",
      "Epoch 19/25\n",
      "1500/1500 [==============================] - 3s 2ms/step - loss: 0.1073 - accuracy: 0.9681 - val_loss: 0.1276 - val_accuracy: 0.9628\n",
      "Epoch 20/25\n",
      "1500/1500 [==============================] - 2s 2ms/step - loss: 0.1014 - accuracy: 0.9704 - val_loss: 0.1378 - val_accuracy: 0.9585\n",
      "Epoch 21/25\n",
      "1500/1500 [==============================] - 2s 2ms/step - loss: 0.0953 - accuracy: 0.9716 - val_loss: 0.1213 - val_accuracy: 0.9652\n",
      "Epoch 22/25\n",
      "1500/1500 [==============================] - 2s 2ms/step - loss: 0.0913 - accuracy: 0.9729 - val_loss: 0.1163 - val_accuracy: 0.9661\n",
      "Epoch 23/25\n",
      "1500/1500 [==============================] - 2s 2ms/step - loss: 0.0857 - accuracy: 0.9747 - val_loss: 0.1196 - val_accuracy: 0.9638\n",
      "Epoch 24/25\n",
      "1500/1500 [==============================] - 3s 2ms/step - loss: 0.0812 - accuracy: 0.9754 - val_loss: 0.1127 - val_accuracy: 0.9678\n",
      "Epoch 25/25\n",
      "1500/1500 [==============================] - 2s 2ms/step - loss: 0.0774 - accuracy: 0.9772 - val_loss: 0.1103 - val_accuracy: 0.9665\n"
     ]
    }
   ],
   "source": [
    "history = model.fit(X_train, y_train, epochs=25, validation_split=0.2)"
   ],
   "metadata": {
    "collapsed": false
   }
  },
  {
   "cell_type": "code",
   "execution_count": 33,
   "outputs": [
    {
     "name": "stdout",
     "output_type": "stream",
     "text": [
      "313/313 [==============================] - 0s 747us/step\n"
     ]
    }
   ],
   "source": [
    "y_prob = model.predict(X_test)"
   ],
   "metadata": {
    "collapsed": false
   }
  },
  {
   "cell_type": "code",
   "execution_count": 34,
   "outputs": [],
   "source": [
    "y_pred = y_prob.argmax(axis=1)"
   ],
   "metadata": {
    "collapsed": false
   }
  },
  {
   "cell_type": "code",
   "execution_count": 35,
   "outputs": [
    {
     "data": {
      "text/plain": "0.8542"
     },
     "execution_count": 35,
     "metadata": {},
     "output_type": "execute_result"
    }
   ],
   "source": [
    "accuracy_score(y_test, y_pred)"
   ],
   "metadata": {
    "collapsed": false
   }
  },
  {
   "cell_type": "code",
   "execution_count": 37,
   "outputs": [
    {
     "data": {
      "text/plain": "[<matplotlib.lines.Line2D at 0x2852a856510>]"
     },
     "execution_count": 37,
     "metadata": {},
     "output_type": "execute_result"
    },
    {
     "data": {
      "text/plain": "<Figure size 640x480 with 1 Axes>",
      "image/png": "[encoded data removed]"
     },
     "metadata": {},
     "output_type": "display_data"
    }
   ],
   "source": [
    "plt.plot(history.history['loss'])\n",
    "plt.plot(history.history['val_loss'])"
   ],
   "metadata": {
    "collapsed": false
   }
  },
  {
   "cell_type": "code",
   "execution_count": 38,
   "outputs": [
    {
     "data": {
      "text/plain": "[<matplotlib.lines.Line2D at 0x2852a998690>]"
     },
     "execution_count": 38,
     "metadata": {},
     "output_type": "execute_result"
    },
    {
     "data": {
      "text/plain": "<Figure size 640x480 with 1 Axes>",
      "image/png": "[encoded data removed]"
     },
     "metadata": {},
     "output_type": "display_data"
    }
   ],
   "source": [
    "plt.plot(history.history['accuracy'])\n",
    "plt.plot(history.history['val_accuracy'])"
   ],
   "metadata": {
    "collapsed": false
   }
  },
  {
   "cell_type": "code",
   "execution_count": null,
   "outputs": [],
   "source": [],
   "metadata": {
    "collapsed": false
   }
  }
 ],
 "metadata": {
  "kernelspec": {
   "display_name": "Python 3",
   "language": "python",
   "name": "python3"
  },
  "language_info": {
   "codemirror_mode": {
    "name": "ipython",
    "version": 2
   },
   "file_extension": ".py",
   "mimetype": "text/x-python",
   "name": "python",
   "nbconvert_exporter": "python",
   "pygments_lexer": "ipython2",
   "version": "2.7.6"
  }
 },
 "nbformat": 4,
 "nbformat_minor": 0
}
