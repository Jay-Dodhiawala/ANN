{
 "cells": [
  {
   "cell_type": "markdown",
   "source": [
    "# Import Libraries"
   ],
   "metadata": {
    "collapsed": false
   }
  },
  {
   "cell_type": "code",
   "execution_count": 40,
   "outputs": [],
   "source": [
    "import numpy as np\n",
    "import pandas as pd\n",
    "import matplotlib.pyplot as plt\n",
    "\n",
    "from sklearn.model_selection import train_test_split\n",
    "from sklearn.preprocessing import StandardScaler\n",
    "from sklearn.metrics import accuracy_score\n",
    "\n",
    "import tensorflow\n",
    "from tensorflow import keras\n",
    "from tensorflow.keras import Sequential\n",
    "from tensorflow.keras.layers import Dense"
   ],
   "metadata": {
    "collapsed": false
   }
  },
  {
   "cell_type": "markdown",
   "source": [
    "# Import and prepare Data"
   ],
   "metadata": {
    "collapsed": false
   }
  },
  {
   "cell_type": "code",
   "execution_count": 2,
   "outputs": [],
   "source": [
    "df = pd.read_csv('data/Churn_Modelling.csv')"
   ],
   "metadata": {
    "collapsed": false
   }
  },
  {
   "cell_type": "code",
   "execution_count": 3,
   "outputs": [
    {
     "data": {
      "text/plain": "   RowNumber  CustomerId   Surname  CreditScore Geography  Gender  Age  \\\n0          1    15634602  Hargrave          619    France  Female   42   \n1          2    15647311      Hill          608     Spain  Female   41   \n2          3    15619304      Onio          502    France  Female   42   \n3          4    15701354      Boni          699    France  Female   39   \n4          5    15737888  Mitchell          850     Spain  Female   43   \n\n   Tenure    Balance  NumOfProducts  HasCrCard  IsActiveMember  \\\n0       2       0.00              1          1               1   \n1       1   83807.86              1          0               1   \n2       8  159660.80              3          1               0   \n3       1       0.00              2          0               0   \n4       2  125510.82              1          1               1   \n\n   EstimatedSalary  Exited  \n0        101348.88       1  \n1        112542.58       0  \n2        113931.57       1  \n3         93826.63       0  \n4         79084.10       0  ",
      "text/html": "<div>\n<style scoped>\n    .dataframe tbody tr th:only-of-type {\n        vertical-align: middle;\n    }\n\n    .dataframe tbody tr th {\n        vertical-align: top;\n    }\n\n    .dataframe thead th {\n        text-align: right;\n    }\n</style>\n<table border=\"1\" class=\"dataframe\">\n  <thead>\n    <tr style=\"text-align: right;\">\n      <th></th>\n      <th>RowNumber</th>\n      <th>CustomerId</th>\n      <th>Surname</th>\n      <th>CreditScore</th>\n      <th>Geography</th>\n      <th>Gender</th>\n      <th>Age</th>\n      <th>Tenure</th>\n      <th>Balance</th>\n      <th>NumOfProducts</th>\n      <th>HasCrCard</th>\n      <th>IsActiveMember</th>\n      <th>EstimatedSalary</th>\n      <th>Exited</th>\n    </tr>\n  </thead>\n  <tbody>\n    <tr>\n      <th>0</th>\n      <td>1</td>\n      <td>15634602</td>\n      <td>Hargrave</td>\n      <td>619</td>\n      <td>France</td>\n      <td>Female</td>\n      <td>42</td>\n      <td>2</td>\n      <td>0.00</td>\n      <td>1</td>\n      <td>1</td>\n      <td>1</td>\n      <td>101348.88</td>\n      <td>1</td>\n    </tr>\n    <tr>\n      <th>1</th>\n      <td>2</td>\n      <td>15647311</td>\n      <td>Hill</td>\n      <td>608</td>\n      <td>Spain</td>\n      <td>Female</td>\n      <td>41</td>\n      <td>1</td>\n      <td>83807.86</td>\n      <td>1</td>\n      <td>0</td>\n      <td>1</td>\n      <td>112542.58</td>\n      <td>0</td>\n    </tr>\n    <tr>\n      <th>2</th>\n      <td>3</td>\n      <td>15619304</td>\n      <td>Onio</td>\n      <td>502</td>\n      <td>France</td>\n      <td>Female</td>\n      <td>42</td>\n      <td>8</td>\n      <td>159660.80</td>\n      <td>3</td>\n      <td>1</td>\n      <td>0</td>\n      <td>113931.57</td>\n      <td>1</td>\n    </tr>\n    <tr>\n      <th>3</th>\n      <td>4</td>\n      <td>15701354</td>\n      <td>Boni</td>\n      <td>699</td>\n      <td>France</td>\n      <td>Female</td>\n      <td>39</td>\n      <td>1</td>\n      <td>0.00</td>\n      <td>2</td>\n      <td>0</td>\n      <td>0</td>\n      <td>93826.63</td>\n      <td>0</td>\n    </tr>\n    <tr>\n      <th>4</th>\n      <td>5</td>\n      <td>15737888</td>\n      <td>Mitchell</td>\n      <td>850</td>\n      <td>Spain</td>\n      <td>Female</td>\n      <td>43</td>\n      <td>2</td>\n      <td>125510.82</td>\n      <td>1</td>\n      <td>1</td>\n      <td>1</td>\n      <td>79084.10</td>\n      <td>0</td>\n    </tr>\n  </tbody>\n</table>\n</div>"
     },
     "execution_count": 3,
     "metadata": {},
     "output_type": "execute_result"
    }
   ],
   "source": [
    "df.head()"
   ],
   "metadata": {
    "collapsed": false
   }
  },
  {
   "cell_type": "code",
   "execution_count": 4,
   "outputs": [
    {
     "name": "stdout",
     "output_type": "stream",
     "text": [
      "<class 'pandas.core.frame.DataFrame'>\n",
      "RangeIndex: 10000 entries, 0 to 9999\n",
      "Data columns (total 14 columns):\n",
      " #   Column           Non-Null Count  Dtype  \n",
      "---  ------           --------------  -----  \n",
      " 0   RowNumber        10000 non-null  int64  \n",
      " 1   CustomerId       10000 non-null  int64  \n",
      " 2   Surname          10000 non-null  object \n",
      " 3   CreditScore      10000 non-null  int64  \n",
      " 4   Geography        10000 non-null  object \n",
      " 5   Gender           10000 non-null  object \n",
      " 6   Age              10000 non-null  int64  \n",
      " 7   Tenure           10000 non-null  int64  \n",
      " 8   Balance          10000 non-null  float64\n",
      " 9   NumOfProducts    10000 non-null  int64  \n",
      " 10  HasCrCard        10000 non-null  int64  \n",
      " 11  IsActiveMember   10000 non-null  int64  \n",
      " 12  EstimatedSalary  10000 non-null  float64\n",
      " 13  Exited           10000 non-null  int64  \n",
      "dtypes: float64(2), int64(9), object(3)\n",
      "memory usage: 1.1+ MB\n"
     ]
    }
   ],
   "source": [
    "df.info()"
   ],
   "metadata": {
    "collapsed": false
   }
  },
  {
   "cell_type": "code",
   "execution_count": 5,
   "outputs": [
    {
     "data": {
      "text/plain": "0"
     },
     "execution_count": 5,
     "metadata": {},
     "output_type": "execute_result"
    }
   ],
   "source": [
    "df.duplicated().sum()"
   ],
   "metadata": {
    "collapsed": false
   }
  },
  {
   "cell_type": "code",
   "execution_count": 6,
   "outputs": [
    {
     "data": {
      "text/plain": "0    7963\n1    2037\nName: Exited, dtype: int64"
     },
     "execution_count": 6,
     "metadata": {},
     "output_type": "execute_result"
    }
   ],
   "source": [
    "df['Exited'].value_counts()"
   ],
   "metadata": {
    "collapsed": false
   }
  },
  {
   "cell_type": "code",
   "execution_count": 7,
   "outputs": [
    {
     "data": {
      "text/plain": "France     5014\nGermany    2509\nSpain      2477\nName: Geography, dtype: int64"
     },
     "execution_count": 7,
     "metadata": {},
     "output_type": "execute_result"
    }
   ],
   "source": [
    "df['Geography'].value_counts()"
   ],
   "metadata": {
    "collapsed": false
   }
  },
  {
   "cell_type": "code",
   "execution_count": 8,
   "outputs": [
    {
     "data": {
      "text/plain": "Male      5457\nFemale    4543\nName: Gender, dtype: int64"
     },
     "execution_count": 8,
     "metadata": {},
     "output_type": "execute_result"
    }
   ],
   "source": [
    "df['Gender'].value_counts()"
   ],
   "metadata": {
    "collapsed": false
   }
  },
  {
   "cell_type": "code",
   "execution_count": 9,
   "outputs": [],
   "source": [
    "df.drop(columns=[\"RowNumber\", \"CustomerId\", \"Surname\"], inplace=True)"
   ],
   "metadata": {
    "collapsed": false
   }
  },
  {
   "cell_type": "code",
   "execution_count": 10,
   "outputs": [
    {
     "data": {
      "text/plain": "   CreditScore Geography  Gender  Age  Tenure    Balance  NumOfProducts  \\\n0          619    France  Female   42       2       0.00              1   \n1          608     Spain  Female   41       1   83807.86              1   \n2          502    France  Female   42       8  159660.80              3   \n3          699    France  Female   39       1       0.00              2   \n4          850     Spain  Female   43       2  125510.82              1   \n\n   HasCrCard  IsActiveMember  EstimatedSalary  Exited  \n0          1               1        101348.88       1  \n1          0               1        112542.58       0  \n2          1               0        113931.57       1  \n3          0               0         93826.63       0  \n4          1               1         79084.10       0  ",
      "text/html": "<div>\n<style scoped>\n    .dataframe tbody tr th:only-of-type {\n        vertical-align: middle;\n    }\n\n    .dataframe tbody tr th {\n        vertical-align: top;\n    }\n\n    .dataframe thead th {\n        text-align: right;\n    }\n</style>\n<table border=\"1\" class=\"dataframe\">\n  <thead>\n    <tr style=\"text-align: right;\">\n      <th></th>\n      <th>CreditScore</th>\n      <th>Geography</th>\n      <th>Gender</th>\n      <th>Age</th>\n      <th>Tenure</th>\n      <th>Balance</th>\n      <th>NumOfProducts</th>\n      <th>HasCrCard</th>\n      <th>IsActiveMember</th>\n      <th>EstimatedSalary</th>\n      <th>Exited</th>\n    </tr>\n  </thead>\n  <tbody>\n    <tr>\n      <th>0</th>\n      <td>619</td>\n      <td>France</td>\n      <td>Female</td>\n      <td>42</td>\n      <td>2</td>\n      <td>0.00</td>\n      <td>1</td>\n      <td>1</td>\n      <td>1</td>\n      <td>101348.88</td>\n      <td>1</td>\n    </tr>\n    <tr>\n      <th>1</th>\n      <td>608</td>\n      <td>Spain</td>\n      <td>Female</td>\n      <td>41</td>\n      <td>1</td>\n      <td>83807.86</td>\n      <td>1</td>\n      <td>0</td>\n      <td>1</td>\n      <td>112542.58</td>\n      <td>0</td>\n    </tr>\n    <tr>\n      <th>2</th>\n      <td>502</td>\n      <td>France</td>\n      <td>Female</td>\n      <td>42</td>\n      <td>8</td>\n      <td>159660.80</td>\n      <td>3</td>\n      <td>1</td>\n      <td>0</td>\n      <td>113931.57</td>\n      <td>1</td>\n    </tr>\n    <tr>\n      <th>3</th>\n      <td>699</td>\n      <td>France</td>\n      <td>Female</td>\n      <td>39</td>\n      <td>1</td>\n      <td>0.00</td>\n      <td>2</td>\n      <td>0</td>\n      <td>0</td>\n      <td>93826.63</td>\n      <td>0</td>\n    </tr>\n    <tr>\n      <th>4</th>\n      <td>850</td>\n      <td>Spain</td>\n      <td>Female</td>\n      <td>43</td>\n      <td>2</td>\n      <td>125510.82</td>\n      <td>1</td>\n      <td>1</td>\n      <td>1</td>\n      <td>79084.10</td>\n      <td>0</td>\n    </tr>\n  </tbody>\n</table>\n</div>"
     },
     "execution_count": 10,
     "metadata": {},
     "output_type": "execute_result"
    }
   ],
   "source": [
    "df.head()"
   ],
   "metadata": {
    "collapsed": false
   }
  },
  {
   "cell_type": "code",
   "execution_count": 11,
   "outputs": [],
   "source": [
    "# using one hot encoding to change catagorical variable to numarical\n",
    "df = pd.get_dummies(df, columns=[\"Geography\", \"Gender\"], drop_first=True)"
   ],
   "metadata": {
    "collapsed": false
   }
  },
  {
   "cell_type": "code",
   "execution_count": 12,
   "outputs": [
    {
     "data": {
      "text/plain": "      CreditScore  Age  Tenure    Balance  NumOfProducts  HasCrCard  \\\n0             619   42       2       0.00              1          1   \n1             608   41       1   83807.86              1          0   \n2             502   42       8  159660.80              3          1   \n3             699   39       1       0.00              2          0   \n4             850   43       2  125510.82              1          1   \n...           ...  ...     ...        ...            ...        ...   \n9995          771   39       5       0.00              2          1   \n9996          516   35      10   57369.61              1          1   \n9997          709   36       7       0.00              1          0   \n9998          772   42       3   75075.31              2          1   \n9999          792   28       4  130142.79              1          1   \n\n      IsActiveMember  EstimatedSalary  Exited  Geography_Germany  \\\n0                  1        101348.88       1                  0   \n1                  1        112542.58       0                  0   \n2                  0        113931.57       1                  0   \n3                  0         93826.63       0                  0   \n4                  1         79084.10       0                  0   \n...              ...              ...     ...                ...   \n9995               0         96270.64       0                  0   \n9996               1        101699.77       0                  0   \n9997               1         42085.58       1                  0   \n9998               0         92888.52       1                  1   \n9999               0         38190.78       0                  0   \n\n      Geography_Spain  Gender_Male  \n0                   0            0  \n1                   1            0  \n2                   0            0  \n3                   0            0  \n4                   1            0  \n...               ...          ...  \n9995                0            1  \n9996                0            1  \n9997                0            0  \n9998                0            1  \n9999                0            0  \n\n[10000 rows x 12 columns]",
      "text/html": "<div>\n<style scoped>\n    .dataframe tbody tr th:only-of-type {\n        vertical-align: middle;\n    }\n\n    .dataframe tbody tr th {\n        vertical-align: top;\n    }\n\n    .dataframe thead th {\n        text-align: right;\n    }\n</style>\n<table border=\"1\" class=\"dataframe\">\n  <thead>\n    <tr style=\"text-align: right;\">\n      <th></th>\n      <th>CreditScore</th>\n      <th>Age</th>\n      <th>Tenure</th>\n      <th>Balance</th>\n      <th>NumOfProducts</th>\n      <th>HasCrCard</th>\n      <th>IsActiveMember</th>\n      <th>EstimatedSalary</th>\n      <th>Exited</th>\n      <th>Geography_Germany</th>\n      <th>Geography_Spain</th>\n      <th>Gender_Male</th>\n    </tr>\n  </thead>\n  <tbody>\n    <tr>\n      <th>0</th>\n      <td>619</td>\n      <td>42</td>\n      <td>2</td>\n      <td>0.00</td>\n      <td>1</td>\n      <td>1</td>\n      <td>1</td>\n      <td>101348.88</td>\n      <td>1</td>\n      <td>0</td>\n      <td>0</td>\n      <td>0</td>\n    </tr>\n    <tr>\n      <th>1</th>\n      <td>608</td>\n      <td>41</td>\n      <td>1</td>\n      <td>83807.86</td>\n      <td>1</td>\n      <td>0</td>\n      <td>1</td>\n      <td>112542.58</td>\n      <td>0</td>\n      <td>0</td>\n      <td>1</td>\n      <td>0</td>\n    </tr>\n    <tr>\n      <th>2</th>\n      <td>502</td>\n      <td>42</td>\n      <td>8</td>\n      <td>159660.80</td>\n      <td>3</td>\n      <td>1</td>\n      <td>0</td>\n      <td>113931.57</td>\n      <td>1</td>\n      <td>0</td>\n      <td>0</td>\n      <td>0</td>\n    </tr>\n    <tr>\n      <th>3</th>\n      <td>699</td>\n      <td>39</td>\n      <td>1</td>\n      <td>0.00</td>\n      <td>2</td>\n      <td>0</td>\n      <td>0</td>\n      <td>93826.63</td>\n      <td>0</td>\n      <td>0</td>\n      <td>0</td>\n      <td>0</td>\n    </tr>\n    <tr>\n      <th>4</th>\n      <td>850</td>\n      <td>43</td>\n      <td>2</td>\n      <td>125510.82</td>\n      <td>1</td>\n      <td>1</td>\n      <td>1</td>\n      <td>79084.10</td>\n      <td>0</td>\n      <td>0</td>\n      <td>1</td>\n      <td>0</td>\n    </tr>\n    <tr>\n      <th>...</th>\n      <td>...</td>\n      <td>...</td>\n      <td>...</td>\n      <td>...</td>\n      <td>...</td>\n      <td>...</td>\n      <td>...</td>\n      <td>...</td>\n      <td>...</td>\n      <td>...</td>\n      <td>...</td>\n      <td>...</td>\n    </tr>\n    <tr>\n      <th>9995</th>\n      <td>771</td>\n      <td>39</td>\n      <td>5</td>\n      <td>0.00</td>\n      <td>2</td>\n      <td>1</td>\n      <td>0</td>\n      <td>96270.64</td>\n      <td>0</td>\n      <td>0</td>\n      <td>0</td>\n      <td>1</td>\n    </tr>\n    <tr>\n      <th>9996</th>\n      <td>516</td>\n      <td>35</td>\n      <td>10</td>\n      <td>57369.61</td>\n      <td>1</td>\n      <td>1</td>\n      <td>1</td>\n      <td>101699.77</td>\n      <td>0</td>\n      <td>0</td>\n      <td>0</td>\n      <td>1</td>\n    </tr>\n    <tr>\n      <th>9997</th>\n      <td>709</td>\n      <td>36</td>\n      <td>7</td>\n      <td>0.00</td>\n      <td>1</td>\n      <td>0</td>\n      <td>1</td>\n      <td>42085.58</td>\n      <td>1</td>\n      <td>0</td>\n      <td>0</td>\n      <td>0</td>\n    </tr>\n    <tr>\n      <th>9998</th>\n      <td>772</td>\n      <td>42</td>\n      <td>3</td>\n      <td>75075.31</td>\n      <td>2</td>\n      <td>1</td>\n      <td>0</td>\n      <td>92888.52</td>\n      <td>1</td>\n      <td>1</td>\n      <td>0</td>\n      <td>1</td>\n    </tr>\n    <tr>\n      <th>9999</th>\n      <td>792</td>\n      <td>28</td>\n      <td>4</td>\n      <td>130142.79</td>\n      <td>1</td>\n      <td>1</td>\n      <td>0</td>\n      <td>38190.78</td>\n      <td>0</td>\n      <td>0</td>\n      <td>0</td>\n      <td>0</td>\n    </tr>\n  </tbody>\n</table>\n<p>10000 rows × 12 columns</p>\n</div>"
     },
     "execution_count": 12,
     "metadata": {},
     "output_type": "execute_result"
    }
   ],
   "source": [
    "df"
   ],
   "metadata": {
    "collapsed": false
   }
  },
  {
   "cell_type": "markdown",
   "source": [
    "# Splitting Data"
   ],
   "metadata": {
    "collapsed": false
   }
  },
  {
   "cell_type": "code",
   "execution_count": 13,
   "outputs": [],
   "source": [
    "X = df.drop(columns=[\"Exited\"])\n",
    "y = df['Exited']\n",
    "X_train, X_test, y_train, y_test = train_test_split(X,y, test_size=0.2, random_state=1)"
   ],
   "metadata": {
    "collapsed": false
   }
  },
  {
   "cell_type": "code",
   "execution_count": 21,
   "outputs": [
    {
     "name": "stderr",
     "output_type": "stream",
     "text": [
      "C:\\Users\\jaydo\\AppData\\Local\\Programs\\Python\\Python311\\Lib\\site-packages\\sklearn\\base.py:439: UserWarning: X does not have valid feature names, but StandardScaler was fitted with feature names\n",
      "  warnings.warn(\n"
     ]
    }
   ],
   "source": [
    "scaler = StandardScaler()\n",
    "X_train_scaled = scaler.fit_transform(X_train)\n",
    "X_test_scaled = scaler.transform(X_test)"
   ],
   "metadata": {
    "collapsed": false
   }
  },
  {
   "cell_type": "markdown",
   "source": [
    "# Bulding Model"
   ],
   "metadata": {
    "collapsed": false
   }
  },
  {
   "cell_type": "code",
   "execution_count": 36,
   "outputs": [],
   "source": [
    "model = Sequential()\n",
    "\n",
    "model.add(Dense(11, activation=\"relu\", input_dim = 11))\n",
    "model.add(Dense(11, activation=\"relu\"))\n",
    "model.add(Dense(1, activation=\"sigmoid\"))"
   ],
   "metadata": {
    "collapsed": false
   }
  },
  {
   "cell_type": "code",
   "execution_count": 37,
   "outputs": [
    {
     "name": "stdout",
     "output_type": "stream",
     "text": [
      "Model: \"sequential_2\"\n",
      "_________________________________________________________________\n",
      " Layer (type)                Output Shape              Param #   \n",
      "=================================================================\n",
      " dense_5 (Dense)             (None, 11)                132       \n",
      "                                                                 \n",
      " dense_6 (Dense)             (None, 11)                132       \n",
      "                                                                 \n",
      " dense_7 (Dense)             (None, 1)                 12        \n",
      "                                                                 \n",
      "=================================================================\n",
      "Total params: 276\n",
      "Trainable params: 276\n",
      "Non-trainable params: 0\n",
      "_________________________________________________________________\n"
     ]
    }
   ],
   "source": [
    "model.summary()"
   ],
   "metadata": {
    "collapsed": false
   }
  },
  {
   "cell_type": "code",
   "execution_count": 38,
   "outputs": [],
   "source": [
    "# compile model\n",
    "model.compile(loss=\"binary_crossentropy\", optimizer=\"Adam\", metrics=[\"accuracy\"])"
   ],
   "metadata": {
    "collapsed": false
   }
  },
  {
   "cell_type": "code",
   "execution_count": 39,
   "outputs": [
    {
     "name": "stdout",
     "output_type": "stream",
     "text": [
      "Epoch 1/100\n",
      "200/200 [==============================] - 1s 1ms/step - loss: 0.5967 - accuracy: 0.6825 - val_loss: 0.4816 - val_accuracy: 0.8006\n",
      "Epoch 2/100\n",
      "200/200 [==============================] - 0s 912us/step - loss: 0.4606 - accuracy: 0.7972 - val_loss: 0.4505 - val_accuracy: 0.8019\n",
      "Epoch 3/100\n",
      "200/200 [==============================] - 0s 917us/step - loss: 0.4418 - accuracy: 0.8061 - val_loss: 0.4373 - val_accuracy: 0.8087\n",
      "Epoch 4/100\n",
      "200/200 [==============================] - 0s 896us/step - loss: 0.4294 - accuracy: 0.8152 - val_loss: 0.4255 - val_accuracy: 0.8094\n",
      "Epoch 5/100\n",
      "200/200 [==============================] - 0s 914us/step - loss: 0.4174 - accuracy: 0.8269 - val_loss: 0.4122 - val_accuracy: 0.8238\n",
      "Epoch 6/100\n",
      "200/200 [==============================] - 0s 914us/step - loss: 0.4042 - accuracy: 0.8338 - val_loss: 0.3987 - val_accuracy: 0.8306\n",
      "Epoch 7/100\n",
      "200/200 [==============================] - 0s 900us/step - loss: 0.3906 - accuracy: 0.8394 - val_loss: 0.3860 - val_accuracy: 0.8381\n",
      "Epoch 8/100\n",
      "200/200 [==============================] - 0s 906us/step - loss: 0.3776 - accuracy: 0.8453 - val_loss: 0.3711 - val_accuracy: 0.8419\n",
      "Epoch 9/100\n",
      "200/200 [==============================] - 0s 907us/step - loss: 0.3665 - accuracy: 0.8506 - val_loss: 0.3653 - val_accuracy: 0.8438\n",
      "Epoch 10/100\n",
      "200/200 [==============================] - 0s 929us/step - loss: 0.3593 - accuracy: 0.8534 - val_loss: 0.3570 - val_accuracy: 0.8456\n",
      "Epoch 11/100\n",
      "200/200 [==============================] - 0s 930us/step - loss: 0.3542 - accuracy: 0.8558 - val_loss: 0.3563 - val_accuracy: 0.8450\n",
      "Epoch 12/100\n",
      "200/200 [==============================] - 0s 932us/step - loss: 0.3507 - accuracy: 0.8561 - val_loss: 0.3506 - val_accuracy: 0.8531\n",
      "Epoch 13/100\n",
      "200/200 [==============================] - 0s 901us/step - loss: 0.3476 - accuracy: 0.8594 - val_loss: 0.3492 - val_accuracy: 0.8500\n",
      "Epoch 14/100\n",
      "200/200 [==============================] - 0s 945us/step - loss: 0.3459 - accuracy: 0.8581 - val_loss: 0.3496 - val_accuracy: 0.8475\n",
      "Epoch 15/100\n",
      "200/200 [==============================] - 0s 923us/step - loss: 0.3443 - accuracy: 0.8622 - val_loss: 0.3495 - val_accuracy: 0.8481\n",
      "Epoch 16/100\n",
      "200/200 [==============================] - 0s 912us/step - loss: 0.3422 - accuracy: 0.8595 - val_loss: 0.3468 - val_accuracy: 0.8512\n",
      "Epoch 17/100\n",
      "200/200 [==============================] - 0s 921us/step - loss: 0.3405 - accuracy: 0.8609 - val_loss: 0.3465 - val_accuracy: 0.8544\n",
      "Epoch 18/100\n",
      "200/200 [==============================] - 0s 913us/step - loss: 0.3404 - accuracy: 0.8589 - val_loss: 0.3457 - val_accuracy: 0.8494\n",
      "Epoch 19/100\n",
      "200/200 [==============================] - 0s 916us/step - loss: 0.3389 - accuracy: 0.8605 - val_loss: 0.3449 - val_accuracy: 0.8500\n",
      "Epoch 20/100\n",
      "200/200 [==============================] - 0s 916us/step - loss: 0.3378 - accuracy: 0.8628 - val_loss: 0.3441 - val_accuracy: 0.8556\n",
      "Epoch 21/100\n",
      "200/200 [==============================] - 0s 956us/step - loss: 0.3369 - accuracy: 0.8633 - val_loss: 0.3443 - val_accuracy: 0.8525\n",
      "Epoch 22/100\n",
      "200/200 [==============================] - 0s 899us/step - loss: 0.3367 - accuracy: 0.8617 - val_loss: 0.3444 - val_accuracy: 0.8487\n",
      "Epoch 23/100\n",
      "200/200 [==============================] - 0s 1ms/step - loss: 0.3357 - accuracy: 0.8641 - val_loss: 0.3450 - val_accuracy: 0.8487\n",
      "Epoch 24/100\n",
      "200/200 [==============================] - 0s 963us/step - loss: 0.3353 - accuracy: 0.8620 - val_loss: 0.3440 - val_accuracy: 0.8562\n",
      "Epoch 25/100\n",
      "200/200 [==============================] - 0s 1ms/step - loss: 0.3348 - accuracy: 0.8637 - val_loss: 0.3444 - val_accuracy: 0.8487\n",
      "Epoch 26/100\n",
      "200/200 [==============================] - 0s 949us/step - loss: 0.3336 - accuracy: 0.8628 - val_loss: 0.3435 - val_accuracy: 0.8525\n",
      "Epoch 27/100\n",
      "200/200 [==============================] - 0s 923us/step - loss: 0.3337 - accuracy: 0.8648 - val_loss: 0.3447 - val_accuracy: 0.8531\n",
      "Epoch 28/100\n",
      "200/200 [==============================] - 0s 935us/step - loss: 0.3326 - accuracy: 0.8648 - val_loss: 0.3442 - val_accuracy: 0.8506\n",
      "Epoch 29/100\n",
      "200/200 [==============================] - 0s 944us/step - loss: 0.3328 - accuracy: 0.8645 - val_loss: 0.3436 - val_accuracy: 0.8550\n",
      "Epoch 30/100\n",
      "200/200 [==============================] - 0s 936us/step - loss: 0.3321 - accuracy: 0.8630 - val_loss: 0.3441 - val_accuracy: 0.8544\n",
      "Epoch 31/100\n",
      "200/200 [==============================] - 0s 947us/step - loss: 0.3319 - accuracy: 0.8628 - val_loss: 0.3423 - val_accuracy: 0.8569\n",
      "Epoch 32/100\n",
      "200/200 [==============================] - 0s 935us/step - loss: 0.3320 - accuracy: 0.8642 - val_loss: 0.3430 - val_accuracy: 0.8519\n",
      "Epoch 33/100\n",
      "200/200 [==============================] - 0s 928us/step - loss: 0.3312 - accuracy: 0.8644 - val_loss: 0.3437 - val_accuracy: 0.8512\n",
      "Epoch 34/100\n",
      "200/200 [==============================] - 0s 926us/step - loss: 0.3308 - accuracy: 0.8656 - val_loss: 0.3427 - val_accuracy: 0.8531\n",
      "Epoch 35/100\n",
      "200/200 [==============================] - 0s 931us/step - loss: 0.3302 - accuracy: 0.8647 - val_loss: 0.3426 - val_accuracy: 0.8550\n",
      "Epoch 36/100\n",
      "200/200 [==============================] - 0s 922us/step - loss: 0.3298 - accuracy: 0.8669 - val_loss: 0.3440 - val_accuracy: 0.8519\n",
      "Epoch 37/100\n",
      "200/200 [==============================] - 0s 927us/step - loss: 0.3299 - accuracy: 0.8669 - val_loss: 0.3447 - val_accuracy: 0.8512\n",
      "Epoch 38/100\n",
      "200/200 [==============================] - 0s 937us/step - loss: 0.3296 - accuracy: 0.8652 - val_loss: 0.3425 - val_accuracy: 0.8531\n",
      "Epoch 39/100\n",
      "200/200 [==============================] - 0s 924us/step - loss: 0.3295 - accuracy: 0.8655 - val_loss: 0.3419 - val_accuracy: 0.8556\n",
      "Epoch 40/100\n",
      "200/200 [==============================] - 0s 936us/step - loss: 0.3290 - accuracy: 0.8661 - val_loss: 0.3438 - val_accuracy: 0.8506\n",
      "Epoch 41/100\n",
      "200/200 [==============================] - 0s 943us/step - loss: 0.3285 - accuracy: 0.8667 - val_loss: 0.3439 - val_accuracy: 0.8487\n",
      "Epoch 42/100\n",
      "200/200 [==============================] - 0s 933us/step - loss: 0.3285 - accuracy: 0.8658 - val_loss: 0.3424 - val_accuracy: 0.8537\n",
      "Epoch 43/100\n",
      "200/200 [==============================] - 0s 950us/step - loss: 0.3281 - accuracy: 0.8656 - val_loss: 0.3453 - val_accuracy: 0.8519\n",
      "Epoch 44/100\n",
      "200/200 [==============================] - 0s 926us/step - loss: 0.3279 - accuracy: 0.8677 - val_loss: 0.3434 - val_accuracy: 0.8544\n",
      "Epoch 45/100\n",
      "200/200 [==============================] - 0s 930us/step - loss: 0.3280 - accuracy: 0.8669 - val_loss: 0.3426 - val_accuracy: 0.8525\n",
      "Epoch 46/100\n",
      "200/200 [==============================] - 0s 938us/step - loss: 0.3274 - accuracy: 0.8658 - val_loss: 0.3426 - val_accuracy: 0.8550\n",
      "Epoch 47/100\n",
      "200/200 [==============================] - 0s 932us/step - loss: 0.3272 - accuracy: 0.8645 - val_loss: 0.3417 - val_accuracy: 0.8531\n",
      "Epoch 48/100\n",
      "200/200 [==============================] - 0s 940us/step - loss: 0.3269 - accuracy: 0.8680 - val_loss: 0.3426 - val_accuracy: 0.8519\n",
      "Epoch 49/100\n",
      "200/200 [==============================] - 0s 989us/step - loss: 0.3262 - accuracy: 0.8667 - val_loss: 0.3421 - val_accuracy: 0.8537\n",
      "Epoch 50/100\n",
      "200/200 [==============================] - 0s 929us/step - loss: 0.3260 - accuracy: 0.8661 - val_loss: 0.3417 - val_accuracy: 0.8544\n",
      "Epoch 51/100\n",
      "200/200 [==============================] - 0s 933us/step - loss: 0.3260 - accuracy: 0.8669 - val_loss: 0.3423 - val_accuracy: 0.8531\n",
      "Epoch 52/100\n",
      "200/200 [==============================] - 0s 946us/step - loss: 0.3256 - accuracy: 0.8681 - val_loss: 0.3428 - val_accuracy: 0.8531\n",
      "Epoch 53/100\n",
      "200/200 [==============================] - 0s 936us/step - loss: 0.3257 - accuracy: 0.8664 - val_loss: 0.3428 - val_accuracy: 0.8531\n",
      "Epoch 54/100\n",
      "200/200 [==============================] - 0s 916us/step - loss: 0.3258 - accuracy: 0.8672 - val_loss: 0.3422 - val_accuracy: 0.8537\n",
      "Epoch 55/100\n",
      "200/200 [==============================] - 0s 935us/step - loss: 0.3252 - accuracy: 0.8664 - val_loss: 0.3438 - val_accuracy: 0.8531\n",
      "Epoch 56/100\n",
      "200/200 [==============================] - 0s 912us/step - loss: 0.3251 - accuracy: 0.8664 - val_loss: 0.3428 - val_accuracy: 0.8525\n",
      "Epoch 57/100\n",
      "200/200 [==============================] - 0s 923us/step - loss: 0.3248 - accuracy: 0.8656 - val_loss: 0.3440 - val_accuracy: 0.8544\n",
      "Epoch 58/100\n",
      "200/200 [==============================] - 0s 926us/step - loss: 0.3250 - accuracy: 0.8656 - val_loss: 0.3430 - val_accuracy: 0.8525\n",
      "Epoch 59/100\n",
      "200/200 [==============================] - 0s 919us/step - loss: 0.3246 - accuracy: 0.8673 - val_loss: 0.3442 - val_accuracy: 0.8537\n",
      "Epoch 60/100\n",
      "200/200 [==============================] - 0s 925us/step - loss: 0.3247 - accuracy: 0.8648 - val_loss: 0.3416 - val_accuracy: 0.8537\n",
      "Epoch 61/100\n",
      "200/200 [==============================] - 0s 922us/step - loss: 0.3243 - accuracy: 0.8669 - val_loss: 0.3426 - val_accuracy: 0.8525\n",
      "Epoch 62/100\n",
      "200/200 [==============================] - 0s 937us/step - loss: 0.3240 - accuracy: 0.8683 - val_loss: 0.3444 - val_accuracy: 0.8512\n",
      "Epoch 63/100\n",
      "200/200 [==============================] - 0s 930us/step - loss: 0.3235 - accuracy: 0.8673 - val_loss: 0.3426 - val_accuracy: 0.8512\n",
      "Epoch 64/100\n",
      "200/200 [==============================] - 0s 934us/step - loss: 0.3235 - accuracy: 0.8662 - val_loss: 0.3435 - val_accuracy: 0.8531\n",
      "Epoch 65/100\n",
      "200/200 [==============================] - 0s 912us/step - loss: 0.3236 - accuracy: 0.8684 - val_loss: 0.3440 - val_accuracy: 0.8519\n",
      "Epoch 66/100\n",
      "200/200 [==============================] - 0s 924us/step - loss: 0.3235 - accuracy: 0.8681 - val_loss: 0.3452 - val_accuracy: 0.8525\n",
      "Epoch 67/100\n",
      "200/200 [==============================] - 0s 917us/step - loss: 0.3235 - accuracy: 0.8686 - val_loss: 0.3466 - val_accuracy: 0.8512\n",
      "Epoch 68/100\n",
      "200/200 [==============================] - 0s 940us/step - loss: 0.3232 - accuracy: 0.8666 - val_loss: 0.3452 - val_accuracy: 0.8512\n",
      "Epoch 69/100\n",
      "200/200 [==============================] - 0s 949us/step - loss: 0.3228 - accuracy: 0.8687 - val_loss: 0.3461 - val_accuracy: 0.8519\n",
      "Epoch 70/100\n",
      "200/200 [==============================] - 0s 924us/step - loss: 0.3226 - accuracy: 0.8681 - val_loss: 0.3444 - val_accuracy: 0.8544\n",
      "Epoch 71/100\n",
      "200/200 [==============================] - 0s 966us/step - loss: 0.3231 - accuracy: 0.8662 - val_loss: 0.3436 - val_accuracy: 0.8537\n",
      "Epoch 72/100\n",
      "200/200 [==============================] - 0s 940us/step - loss: 0.3227 - accuracy: 0.8669 - val_loss: 0.3448 - val_accuracy: 0.8544\n",
      "Epoch 73/100\n",
      "200/200 [==============================] - 0s 940us/step - loss: 0.3224 - accuracy: 0.8686 - val_loss: 0.3437 - val_accuracy: 0.8537\n",
      "Epoch 74/100\n",
      "200/200 [==============================] - 0s 958us/step - loss: 0.3226 - accuracy: 0.8678 - val_loss: 0.3445 - val_accuracy: 0.8556\n",
      "Epoch 75/100\n",
      "200/200 [==============================] - 0s 955us/step - loss: 0.3223 - accuracy: 0.8683 - val_loss: 0.3447 - val_accuracy: 0.8556\n",
      "Epoch 76/100\n",
      "200/200 [==============================] - 0s 930us/step - loss: 0.3223 - accuracy: 0.8664 - val_loss: 0.3444 - val_accuracy: 0.8544\n",
      "Epoch 77/100\n",
      "200/200 [==============================] - 0s 926us/step - loss: 0.3224 - accuracy: 0.8683 - val_loss: 0.3453 - val_accuracy: 0.8550\n",
      "Epoch 78/100\n",
      "200/200 [==============================] - 0s 929us/step - loss: 0.3222 - accuracy: 0.8698 - val_loss: 0.3468 - val_accuracy: 0.8537\n",
      "Epoch 79/100\n",
      "200/200 [==============================] - 0s 944us/step - loss: 0.3226 - accuracy: 0.8686 - val_loss: 0.3447 - val_accuracy: 0.8512\n",
      "Epoch 80/100\n",
      "200/200 [==============================] - 0s 948us/step - loss: 0.3226 - accuracy: 0.8673 - val_loss: 0.3446 - val_accuracy: 0.8525\n",
      "Epoch 81/100\n",
      "200/200 [==============================] - 0s 926us/step - loss: 0.3217 - accuracy: 0.8666 - val_loss: 0.3453 - val_accuracy: 0.8525\n",
      "Epoch 82/100\n",
      "200/200 [==============================] - 0s 951us/step - loss: 0.3220 - accuracy: 0.8680 - val_loss: 0.3452 - val_accuracy: 0.8531\n",
      "Epoch 83/100\n",
      "200/200 [==============================] - 0s 921us/step - loss: 0.3222 - accuracy: 0.8669 - val_loss: 0.3457 - val_accuracy: 0.8544\n",
      "Epoch 84/100\n",
      "200/200 [==============================] - 0s 943us/step - loss: 0.3217 - accuracy: 0.8677 - val_loss: 0.3454 - val_accuracy: 0.8531\n",
      "Epoch 85/100\n",
      "200/200 [==============================] - 0s 931us/step - loss: 0.3218 - accuracy: 0.8683 - val_loss: 0.3463 - val_accuracy: 0.8525\n",
      "Epoch 86/100\n",
      "200/200 [==============================] - 0s 929us/step - loss: 0.3214 - accuracy: 0.8680 - val_loss: 0.3442 - val_accuracy: 0.8550\n",
      "Epoch 87/100\n",
      "200/200 [==============================] - 0s 928us/step - loss: 0.3218 - accuracy: 0.8667 - val_loss: 0.3469 - val_accuracy: 0.8525\n",
      "Epoch 88/100\n",
      "200/200 [==============================] - 0s 926us/step - loss: 0.3207 - accuracy: 0.8687 - val_loss: 0.3466 - val_accuracy: 0.8531\n",
      "Epoch 89/100\n",
      "200/200 [==============================] - 0s 945us/step - loss: 0.3213 - accuracy: 0.8687 - val_loss: 0.3458 - val_accuracy: 0.8519\n",
      "Epoch 90/100\n",
      "200/200 [==============================] - 0s 1ms/step - loss: 0.3219 - accuracy: 0.8677 - val_loss: 0.3448 - val_accuracy: 0.8537\n",
      "Epoch 91/100\n",
      "200/200 [==============================] - 0s 930us/step - loss: 0.3212 - accuracy: 0.8686 - val_loss: 0.3480 - val_accuracy: 0.8512\n",
      "Epoch 92/100\n",
      "200/200 [==============================] - 0s 920us/step - loss: 0.3211 - accuracy: 0.8708 - val_loss: 0.3450 - val_accuracy: 0.8525\n",
      "Epoch 93/100\n",
      "200/200 [==============================] - 0s 920us/step - loss: 0.3207 - accuracy: 0.8675 - val_loss: 0.3440 - val_accuracy: 0.8537\n",
      "Epoch 94/100\n",
      "200/200 [==============================] - 0s 949us/step - loss: 0.3204 - accuracy: 0.8678 - val_loss: 0.3483 - val_accuracy: 0.8456\n",
      "Epoch 95/100\n",
      "200/200 [==============================] - 0s 937us/step - loss: 0.3205 - accuracy: 0.8702 - val_loss: 0.3468 - val_accuracy: 0.8537\n",
      "Epoch 96/100\n",
      "200/200 [==============================] - 0s 937us/step - loss: 0.3209 - accuracy: 0.8680 - val_loss: 0.3471 - val_accuracy: 0.8519\n",
      "Epoch 97/100\n",
      "200/200 [==============================] - 0s 923us/step - loss: 0.3205 - accuracy: 0.8661 - val_loss: 0.3474 - val_accuracy: 0.8525\n",
      "Epoch 98/100\n",
      "200/200 [==============================] - 0s 924us/step - loss: 0.3212 - accuracy: 0.8692 - val_loss: 0.3471 - val_accuracy: 0.8519\n",
      "Epoch 99/100\n",
      "200/200 [==============================] - 0s 920us/step - loss: 0.3207 - accuracy: 0.8708 - val_loss: 0.3457 - val_accuracy: 0.8500\n",
      "Epoch 100/100\n",
      "200/200 [==============================] - 0s 924us/step - loss: 0.3208 - accuracy: 0.8698 - val_loss: 0.3454 - val_accuracy: 0.8531\n"
     ]
    }
   ],
   "source": [
    "history = model.fit(X_train_scaled, y_train, epochs=100, validation_split=0.2)"
   ],
   "metadata": {
    "collapsed": false
   }
  },
  {
   "cell_type": "code",
   "execution_count": 32,
   "outputs": [
    {
     "data": {
      "text/plain": "[array([[ 0.06070222, -0.00932938, -0.40348253, -0.23869006,  0.0443157 ,\n          0.04427003,  0.21595523, -0.08651247,  0.00242188, -0.18607247,\n          0.38852233],\n        [-0.74704283, -0.05605424,  0.9525276 ,  0.07984636, -0.3909322 ,\n         -0.0288563 , -0.3803932 , -0.00439621,  0.57357144,  0.21406071,\n          1.0803882 ],\n        [-0.10511701, -0.02096468,  0.2359274 ,  0.41992265, -0.0428974 ,\n         -0.1520628 , -0.0181281 ,  0.05363677, -0.02734527,  0.09254415,\n         -0.2171094 ],\n        [ 0.14880612, -0.88028306, -0.48665994, -0.11102257,  0.60505605,\n         -0.80060387, -0.5693887 ,  0.09736869, -0.30571735,  0.07397056,\n          0.30340242],\n        [ 0.0238586 ,  0.43401662,  0.02819453, -0.16275951, -0.265323  ,\n          0.16951264, -0.5032784 ,  0.89281565, -0.810726  ,  1.1170225 ,\n          1.0150231 ],\n        [-0.11020664,  0.01400338,  0.29324472, -0.48889428,  0.658317  ,\n          0.19597417, -0.28128564, -0.14715913, -0.22820556,  0.30068547,\n         -0.02225489],\n        [-0.7496031 ,  0.01709603,  0.9324209 ,  0.7873101 ,  0.7315928 ,\n         -0.6523281 ,  0.399835  , -0.03696423, -0.25428402, -0.1223102 ,\n         -0.13108535],\n        [-0.16432406, -0.03521656,  0.04997849, -0.541561  ,  0.42701346,\n         -0.21377368,  0.20320936, -0.04167997, -0.03250813, -0.01146156,\n         -0.00678461],\n        [-0.05531264,  0.7880518 , -0.10426059, -0.43771598,  0.05871624,\n         -0.59064794, -0.22040126, -0.2560392 ,  0.23523252, -0.2607111 ,\n          0.27564368],\n        [-0.23581788,  0.04121929,  0.19201426,  0.1622177 , -0.20275192,\n         -0.31093788, -0.09876896,  0.03613374, -0.11241354,  0.22219071,\n         -0.3231658 ],\n        [ 0.11594769,  0.01331815,  0.1245761 ,  0.5595132 ,  0.07314643,\n         -0.23631142,  0.33224416,  0.0313687 ,  0.16755582, -0.00670401,\n          0.10666294]], dtype=float32),\n array([ 0.58789015, -0.45366365, -0.15904562,  0.6939165 ,  0.2670661 ,\n         0.36873153,  0.7766046 , -0.64113593,  0.19007787,  0.18203105,\n         0.11115456], dtype=float32)]"
     },
     "execution_count": 32,
     "metadata": {},
     "output_type": "execute_result"
    }
   ],
   "source": [
    "model.layers[0].get_weights()"
   ],
   "metadata": {
    "collapsed": false
   }
  },
  {
   "cell_type": "code",
   "execution_count": 33,
   "outputs": [
    {
     "name": "stdout",
     "output_type": "stream",
     "text": [
      "63/63 [==============================] - 0s 551us/step\n"
     ]
    }
   ],
   "source": [
    "y_log = model.predict(X_test_scaled)"
   ],
   "metadata": {
    "collapsed": false
   }
  },
  {
   "cell_type": "code",
   "execution_count": 34,
   "outputs": [],
   "source": [
    "y_pred = np.where(y_log>0.5, 1, 0)"
   ],
   "metadata": {
    "collapsed": false
   }
  },
  {
   "cell_type": "code",
   "execution_count": 35,
   "outputs": [
    {
     "data": {
      "text/plain": "0.795"
     },
     "execution_count": 35,
     "metadata": {},
     "output_type": "execute_result"
    }
   ],
   "source": [
    "accuracy_score(y_test, y_pred)"
   ],
   "metadata": {
    "collapsed": false
   }
  },
  {
   "cell_type": "code",
   "execution_count": 42,
   "outputs": [
    {
     "data": {
      "text/plain": "[<matplotlib.lines.Line2D at 0x25090ede0d0>]"
     },
     "execution_count": 42,
     "metadata": {},
     "output_type": "execute_result"
    },
    {
     "data": {
      "text/plain": "<Figure size 640x480 with 1 Axes>",
      "image/png": "[encoded data removed]"
     },
     "metadata": {},
     "output_type": "display_data"
    }
   ],
   "source": [
    "plt.plot(history.history[\"loss\"])\n",
    "plt.plot(history.history[\"val_loss\"])"
   ],
   "metadata": {
    "collapsed": false
   }
  },
  {
   "cell_type": "code",
   "execution_count": 43,
   "outputs": [
    {
     "data": {
      "text/plain": "[<matplotlib.lines.Line2D at 0x25091410690>]"
     },
     "execution_count": 43,
     "metadata": {},
     "output_type": "execute_result"
    },
    {
     "data": {
      "text/plain": "<Figure size 640x480 with 1 Axes>",
      "image/png": "[encoded data removed]"
     },
     "metadata": {},
     "output_type": "display_data"
    }
   ],
   "source": [
    "plt.plot(history.history[\"accuracy\"])\n",
    "plt.plot(history.history[\"val_accuracy\"])"
   ],
   "metadata": {
    "collapsed": false
   }
  },
  {
   "cell_type": "code",
   "execution_count": null,
   "outputs": [],
   "source": [],
   "metadata": {
    "collapsed": false
   }
  }
 ],
 "metadata": {
  "kernelspec": {
   "display_name": "Python 3",
   "language": "python",
   "name": "python3"
  },
  "language_info": {
   "codemirror_mode": {
    "name": "ipython",
    "version": 2
   },
   "file_extension": ".py",
   "mimetype": "text/x-python",
   "name": "python",
   "nbconvert_exporter": "python",
   "pygments_lexer": "ipython2",
   "version": "2.7.6"
  }
 },
 "nbformat": 4,
 "nbformat_minor": 0
}
